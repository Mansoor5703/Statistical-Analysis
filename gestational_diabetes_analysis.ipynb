{
 "cells": [
  {
   "cell_type": "code",
   "execution_count": 1,
   "id": "d19ec0e5-3501-4a32-89f5-f4e4184a6c9e",
   "metadata": {},
   "outputs": [
    {
     "name": "stdout",
     "output_type": "stream",
     "text": [
      "        age       sex       bmi        bp        s1        s2        s3  \\\n",
      "0  0.038076  0.050680  0.061696  0.021872 -0.044223 -0.034821 -0.043401   \n",
      "1 -0.001882 -0.044642 -0.051474 -0.026328 -0.008449 -0.019163  0.074412   \n",
      "2  0.085299  0.050680  0.044451 -0.005670 -0.045599 -0.034194 -0.032356   \n",
      "3 -0.089063 -0.044642 -0.011595 -0.036656  0.012191  0.024991 -0.036038   \n",
      "4  0.005383 -0.044642 -0.036385  0.021872  0.003935  0.015596  0.008142   \n",
      "\n",
      "         s4        s5        s6  target  \n",
      "0 -0.002592  0.019907 -0.017646   151.0  \n",
      "1 -0.039493 -0.068332 -0.092204    75.0  \n",
      "2 -0.002592  0.002861 -0.025930   141.0  \n",
      "3  0.034309  0.022688 -0.009362   206.0  \n",
      "4 -0.002592 -0.031988 -0.046641   135.0  \n"
     ]
    }
   ],
   "source": [
    "import pandas as pd\n",
    "from sklearn.datasets import load_diabetes\n",
    "\n",
    "# Load the dataset\n",
    "diabetes = load_diabetes()\n",
    "df = pd.DataFrame(data=diabetes.data, columns=diabetes.feature_names)\n",
    "df['target'] = diabetes.target\n",
    "\n",
    "# Display the first few rows\n",
    "print(df.head())"
   ]
  },
  {
   "cell_type": "code",
   "execution_count": null,
   "id": "ebd8e234-a9b2-4024-ab71-0ab812db9c46",
   "metadata": {},
   "outputs": [],
   "source": [
    "# Calculate basic descriptive statistics\n",
    "print(\"Mean:\\n\", df.mean())\n",
    "print(\"\\nMedian:\\n\", df.median())\n",
    "print(\"\\nMode:\\n\", df.mode().iloc[0])\n",
    "print(\"\\nStandard Deviation:\\n\", df.std())\n",
    "print(\"\\nVariance:\\n\", df.var())\n",
    "\n",
    "# Additional descriptive statistics\n",
    "print(\"\\nRange:\\n\", df.max() - df.min())\n",
    "print(\"\\nSkewness:\\n\", df.skew())\n",
    "print(\"\\nKurtosis:\\n\", df.kurt())"
   ]
  },
  {
   "cell_type": "code",
   "execution_count": 3,
   "id": "b19ff75c-edf6-4d84-847a-e2a6f24a88ee",
   "metadata": {},
   "outputs": [
    {
     "name": "stdout",
     "output_type": "stream",
     "text": [
      "T-Statistic: -22.074985843710174\n",
      "P-Value: 2.7634312235044638e-73\n"
     ]
    }
   ],
   "source": [
    "from scipy import stats\n",
    "\n",
    "# Example data: BMI values\n",
    "bmi_values = df['bmi']\n",
    "\n",
    "# Hypothetical population mean for BMI\n",
    "population_mean = 0.05\n",
    "\n",
    "# Perform one-sample t-test\n",
    "t_stat, p_value = stats.ttest_1samp(bmi_values, population_mean)\n",
    "\n",
    "print(f\"T-Statistic: {t_stat}\")\n",
    "print(f\"P-Value: {p_value}\")"
   ]
  },
  {
   "cell_type": "code",
   "execution_count": 4,
   "id": "5e899c07-e3f2-415e-8a7c-c24961e9802e",
   "metadata": {},
   "outputs": [
    {
     "name": "stdout",
     "output_type": "stream",
     "text": [
      "95% Confidence Interval for BMI: (np.float64(-0.004439332370169141), np.float64(0.0044393323701686915))\n"
     ]
    }
   ],
   "source": [
    "import numpy as np\n",
    "from scipy import stats\n",
    "\n",
    "# Sample mean and standard error for BMI\n",
    "sample_mean = np.mean(bmi_values)\n",
    "standard_error = stats.sem(bmi_values)\n",
    "\n",
    "# Compute 95% confidence interval for BMI\n",
    "confidence_interval = stats.norm.interval(0.95, loc=sample_mean, scale=standard_error)\n",
    "\n",
    "print(f\"95% Confidence Interval for BMI: {confidence_interval}\")"
   ]
  },
  {
   "cell_type": "code",
   "execution_count": 5,
   "id": "649e456a-e225-4ab7-813a-1dcb11ba3dce",
   "metadata": {},
   "outputs": [
    {
     "name": "stdout",
     "output_type": "stream",
     "text": [
      "                            OLS Regression Results                            \n",
      "==============================================================================\n",
      "Dep. Variable:                 target   R-squared:                       0.344\n",
      "Model:                            OLS   Adj. R-squared:                  0.342\n",
      "Method:                 Least Squares   F-statistic:                     230.7\n",
      "Date:                Sat, 07 Sep 2024   Prob (F-statistic):           3.47e-42\n",
      "Time:                        13:31:52   Log-Likelihood:                -2454.0\n",
      "No. Observations:                 442   AIC:                             4912.\n",
      "Df Residuals:                     440   BIC:                             4920.\n",
      "Df Model:                           1                                         \n",
      "Covariance Type:            nonrobust                                         \n",
      "==============================================================================\n",
      "                 coef    std err          t      P>|t|      [0.025      0.975]\n",
      "------------------------------------------------------------------------------\n",
      "const        152.1335      2.974     51.162      0.000     146.289     157.978\n",
      "bmi          949.4353     62.515     15.187      0.000     826.570    1072.301\n",
      "==============================================================================\n",
      "Omnibus:                       11.674   Durbin-Watson:                   1.848\n",
      "Prob(Omnibus):                  0.003   Jarque-Bera (JB):                7.310\n",
      "Skew:                           0.156   Prob(JB):                       0.0259\n",
      "Kurtosis:                       2.453   Cond. No.                         21.0\n",
      "==============================================================================\n",
      "\n",
      "Notes:\n",
      "[1] Standard Errors assume that the covariance matrix of the errors is correctly specified.\n"
     ]
    }
   ],
   "source": [
    "import statsmodels.api as sm\n",
    "\n",
    "# Define independent variable (add constant for intercept)\n",
    "X = sm.add_constant(df['bmi'])\n",
    "\n",
    "# Define dependent variable\n",
    "y = df['target']\n",
    "\n",
    "# Fit linear regression model\n",
    "model = sm.OLS(y, X).fit()\n",
    "\n",
    "# Print model summary\n",
    "print(model.summary())"
   ]
  },
  {
   "cell_type": "code",
   "execution_count": null,
   "id": "717612e1-eeac-4d83-acf8-d93618a99496",
   "metadata": {},
   "outputs": [],
   "source": []
  }
 ],
 "metadata": {
  "kernelspec": {
   "display_name": "Python 3 (ipykernel)",
   "language": "python",
   "name": "python3"
  },
  "language_info": {
   "codemirror_mode": {
    "name": "ipython",
    "version": 3
   },
   "file_extension": ".py",
   "mimetype": "text/x-python",
   "name": "python",
   "nbconvert_exporter": "python",
   "pygments_lexer": "ipython3",
   "version": "3.12.6"
  }
 },
 "nbformat": 4,
 "nbformat_minor": 5
}
